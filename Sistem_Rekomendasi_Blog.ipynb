{
  "cells": [
    {
      "cell_type": "markdown",
      "metadata": {
        "id": "MofYKweNViRW"
      },
      "source": [
        "# Import Library"
      ]
    },
    {
      "cell_type": "code",
      "execution_count": null,
      "metadata": {
        "colab": {
          "background_save": true
        },
        "id": "7x9XY1vzVenr"
      },
      "outputs": [],
      "source": [
        "# Import library\n",
        "import pandas as pd\n",
        "import numpy as np\n",
        "import tensorflow as tf\n",
        "from tensorflow import keras\n",
        "from tensorflow.keras import layers\n",
        "from pathlib import Path\n",
        "import matplotlib.pyplot as plt"
      ]
    },
    {
      "cell_type": "code",
      "execution_count": null,
      "metadata": {
        "colab": {
          "base_uri": "https://localhost:8080/"
        },
        "id": "1ApZCTxCIpOh",
        "outputId": "b2216ff5-7894-4b01-ea0a-f5b04d052d43"
      },
      "outputs": [
        {
          "name": "stdout",
          "output_type": "stream",
          "text": [
            "Drive already mounted at /content/drive; to attempt to forcibly remount, call drive.mount(\"/content/drive\", force_remount=True).\n"
          ]
        }
      ],
      "source": [
        "from google.colab import drive\n",
        "drive.mount('/content/drive')"
      ]
    },
    {
      "cell_type": "markdown",
      "metadata": {
        "id": "GFmENLhyYHbf"
      },
      "source": [
        "# Define File Path"
      ]
    },
    {
      "cell_type": "code",
      "execution_count": null,
      "metadata": {
        "colab": {
          "background_save": true
        },
        "id": "usNiB0XIX722"
      },
      "outputs": [],
      "source": [
        "blogs_data = f'/content/drive/MyDrive/blog/Medium Blog Data.csv'\n",
        "ratings_data = f'/content/drive/MyDrive/blog/Blog Ratings.csv'\n",
        "authors_data = f'/content/drive/MyDrive/blog/Author Data.csv'"
      ]
    },
    {
      "cell_type": "markdown",
      "metadata": {
        "id": "ppS9sH2WYfCi"
      },
      "source": [
        "# Load File"
      ]
    },
    {
      "cell_type": "code",
      "execution_count": null,
      "metadata": {
        "colab": {
          "background_save": true
        },
        "id": "UOA4roitYcyz"
      },
      "outputs": [],
      "source": [
        "blogs = pd.read_csv(blogs_data,sep=',')\n",
        "ratings = pd.read_csv(ratings_data,sep=',')\n",
        "authors = pd.read_csv(authors_data,sep=',')"
      ]
    },
    {
      "cell_type": "markdown",
      "metadata": {
        "id": "0RAtGl6oZdTR"
      },
      "source": [
        "# Data Understanding"
      ]
    },
    {
      "cell_type": "markdown",
      "metadata": {
        "id": "JzHA3X_jrzPC"
      },
      "source": [
        "Dataset ini berisi informasi blog yang terdiri dari 3 filr csv yaitu\n",
        "\n",
        "\n",
        "\n",
        "*   Medium Blog Data.csv yang berisi informasi data blog\n",
        "*   Blog Ratings.csv yang berisi data penilaian blog oleh pengguna\n",
        "*   Author Sata.csv yang berisi data penulis blog\n",
        "\n"
      ]
    },
    {
      "cell_type": "code",
      "execution_count": null,
      "metadata": {
        "colab": {
          "background_save": true
        },
        "id": "b2GHHOZgbKLU"
      },
      "outputs": [],
      "source": [
        "print('Jumlah data blog: ', len(blogs.blog_id.unique()))\n",
        "print('Jumlah data penilaian blog yang diberikan pengguna: ', len(ratings.userId.unique()))\n",
        "print('Jumlah data penulis: ', len(authors.author_id.unique()))"
      ]
    },
    {
      "cell_type": "markdown",
      "metadata": {
        "id": "JFTbw0mcjhDF"
      },
      "source": [
        "# Univariate Exploratory Data Analysis"
      ]
    },
    {
      "cell_type": "markdown",
      "metadata": {
        "id": "T7x3z7APewFN"
      },
      "source": [
        "## Blog"
      ]
    },
    {
      "cell_type": "code",
      "execution_count": null,
      "metadata": {
        "colab": {
          "background_save": true
        },
        "id": "dI35u-OpfVKB"
      },
      "outputs": [],
      "source": [
        "blogs.info()"
      ]
    },
    {
      "cell_type": "code",
      "execution_count": null,
      "metadata": {
        "colab": {
          "background_save": true
        },
        "id": "fLwISZdJem2j"
      },
      "outputs": [],
      "source": [
        "print('Jumlah data blog: ', len(blogs.blog_id.unique()))\n",
        "print('Jumlah data penulis: ', len(blogs.author_id.unique()))\n",
        "print('JUmlah data judul: ', len(blogs.blog_title.unique()))\n",
        "print('Jumlah data konten: ', len(blogs.blog_content.unique()))\n",
        "print('Jumlah data topik ', len(blogs.topic.unique()))"
      ]
    },
    {
      "cell_type": "markdown",
      "metadata": {
        "id": "zRVWSSQoO-5d"
      },
      "source": [
        "## Ratings"
      ]
    },
    {
      "cell_type": "code",
      "execution_count": null,
      "metadata": {
        "colab": {
          "background_save": true
        },
        "id": "YM3RBB_Xful0"
      },
      "outputs": [],
      "source": [
        "ratings.info()"
      ]
    },
    {
      "cell_type": "code",
      "execution_count": null,
      "metadata": {
        "colab": {
          "background_save": true
        },
        "id": "ue8flWsmPOLI"
      },
      "outputs": [],
      "source": [
        "print('Jumlah data blog id: ', len(ratings.blog_id.unique()))\n",
        "print('Jumlah data user id: ', len(ratings.userId.unique()))\n",
        "print('Jumlah data rating: ', len(ratings.ratings))"
      ]
    },
    {
      "cell_type": "markdown",
      "metadata": {
        "id": "i5tI79GGSuPF"
      },
      "source": [
        "## Author"
      ]
    },
    {
      "cell_type": "code",
      "execution_count": null,
      "metadata": {
        "colab": {
          "background_save": true
        },
        "id": "97ZfvWF0SxkD"
      },
      "outputs": [],
      "source": [
        "authors.info()"
      ]
    },
    {
      "cell_type": "code",
      "execution_count": null,
      "metadata": {
        "colab": {
          "background_save": true
        },
        "id": "jhvrJqzlS3sq"
      },
      "outputs": [],
      "source": [
        "print('Jumlah data id penulis: ', len(authors.author_id.unique()))\n",
        "print('Jumlah data penulis: ', len(authors.author_name.unique()))"
      ]
    },
    {
      "cell_type": "markdown",
      "metadata": {
        "id": "KX1AYXNMZhVZ"
      },
      "source": [
        "# Data Preprocessing"
      ]
    },
    {
      "cell_type": "markdown",
      "metadata": {
        "id": "Q3ZdPR04joOl"
      },
      "source": [
        "##  Menggabungkan dataframe ratings dengan blogs"
      ]
    },
    {
      "cell_type": "code",
      "execution_count": null,
      "metadata": {
        "colab": {
          "background_save": true
        },
        "id": "qFW5Uoh3Zj4T"
      },
      "outputs": [],
      "source": [
        "# Menggabungkan dataframe ratings dengan blogs berdasarkan nilai blog_id\n",
        "blog = pd.merge(ratings, blogs , on='blog_id', how='left')\n",
        "blog"
      ]
    },
    {
      "cell_type": "code",
      "execution_count": null,
      "metadata": {
        "colab": {
          "background_save": true
        },
        "id": "-6qt0L0DavAo"
      },
      "outputs": [],
      "source": [
        "# Menghitung jumlah Book-Rating kemudian menggabungkannya berdasarkan blog_id\n",
        "blog.groupby('blog_id').sum()"
      ]
    },
    {
      "cell_type": "markdown",
      "metadata": {
        "id": "Tt2xPMxbj0es"
      },
      "source": [
        "## Menggabungkan ratings dengan dataframe blog"
      ]
    },
    {
      "cell_type": "code",
      "execution_count": null,
      "metadata": {
        "colab": {
          "background_save": true
        },
        "id": "VfucoBCrcWwY"
      },
      "outputs": [],
      "source": [
        "# Menggabungkan ratings dengan dataframe blog berdasarkan blog_id\n",
        "all_blog = pd.merge(ratings, blogs[['blog_id','blog_title', 'topic']], on='blog_id', how='left')\n",
        "\n",
        "# Print dataframe all_blog_name\n",
        "all_blog"
      ]
    },
    {
      "cell_type": "code",
      "execution_count": null,
      "metadata": {
        "colab": {
          "background_save": true
        },
        "id": "MDgwQc1M9Zee"
      },
      "outputs": [],
      "source": [
        "print(all_blog.head().to_markdown())"
      ]
    },
    {
      "cell_type": "markdown",
      "metadata": {
        "id": "WKmiNF9Aj-A8"
      },
      "source": [
        "## Mengecek missing value pada dataframe all_blog"
      ]
    },
    {
      "cell_type": "code",
      "execution_count": null,
      "metadata": {
        "colab": {
          "background_save": true
        },
        "id": "RtAKOResfbM3"
      },
      "outputs": [],
      "source": [
        "# Mengecek missing value pada dataframe all_blog\n",
        "all_blog.isnull().sum()"
      ]
    },
    {
      "cell_type": "markdown",
      "metadata": {
        "id": "9SBzm9smiFV1"
      },
      "source": [
        "## Random Sampling"
      ]
    },
    {
      "cell_type": "code",
      "execution_count": null,
      "metadata": {
        "colab": {
          "background_save": true
        },
        "id": "P_6pblxo96dz"
      },
      "outputs": [],
      "source": [
        "# jumlah sampel\n",
        "num_samples = 1000\n",
        "\n",
        "# Perform random sampling\n",
        "sampled_all_blog = all_blog.sample(n=num_samples, random_state=42)"
      ]
    },
    {
      "cell_type": "markdown",
      "metadata": {
        "id": "byDx3ocziUyu"
      },
      "source": [
        "## Data Preparation"
      ]
    },
    {
      "cell_type": "markdown",
      "metadata": {
        "id": "hPDDNAnikGht"
      },
      "source": [
        "## Mengecek kembali missing value pada variabel all_blog_clean"
      ]
    },
    {
      "cell_type": "code",
      "execution_count": null,
      "metadata": {
        "colab": {
          "background_save": true
        },
        "id": "MAHrM_EVgUFG"
      },
      "outputs": [],
      "source": [
        "# Mengecek kembali missing value pada variabel all_blog_clean\n",
        "sampled_all_blog.isnull().sum()"
      ]
    },
    {
      "cell_type": "markdown",
      "metadata": {
        "id": "4Edgv3OgkOKc"
      },
      "source": [
        "## kategori topic yang unik"
      ]
    },
    {
      "cell_type": "code",
      "execution_count": null,
      "metadata": {
        "colab": {
          "background_save": true
        },
        "id": "ylTSVXjLhCQe"
      },
      "outputs": [],
      "source": [
        "# Mengecek kategori topic yang unik\n",
        "sampled_all_blog.topic.unique()"
      ]
    },
    {
      "cell_type": "markdown",
      "metadata": {
        "id": "HzETbUcikTME"
      },
      "source": [
        "## Membuat variabel preparation yang berisi dataframe all_clean_blog"
      ]
    },
    {
      "cell_type": "code",
      "execution_count": null,
      "metadata": {
        "colab": {
          "background_save": true
        },
        "id": "HKHtSf7ciW5u"
      },
      "outputs": [],
      "source": [
        "# Membuat variabel preparation yang berisi dataframe all_clean_blog kemudian mengurutkan berdasarkan blog\n",
        "preparation = sampled_all_blog\n",
        "preparation.sort_values('blog_id')"
      ]
    },
    {
      "cell_type": "markdown",
      "metadata": {
        "id": "M2u3nOQdkZj8"
      },
      "source": [
        "## Mengonversi data series menjadi dalam bentuk list"
      ]
    },
    {
      "cell_type": "code",
      "execution_count": null,
      "metadata": {
        "colab": {
          "background_save": true
        },
        "id": "ZikuXNwli4WN"
      },
      "outputs": [],
      "source": [
        "# Mengonversi data series ‘blog_id’ menjadi dalam bentuk list\n",
        "id = preparation['blog_id'].tolist()\n",
        "\n",
        "# Mengonversi data series ‘blog_title’ menjadi dalam bentuk list\n",
        "blog_title = preparation['blog_title'].tolist()\n",
        "\n",
        "# Mengonversi data series ‘topicr’ menjadi dalam bentuk list\n",
        "topic = preparation['topic'].tolist()\n",
        "\n",
        "print(len(id))\n",
        "print(len(blog_title))\n",
        "print(len(topic))"
      ]
    },
    {
      "cell_type": "markdown",
      "metadata": {
        "id": "iILQlw4dkioz"
      },
      "source": [
        "## Membuat dictionary untuk data"
      ]
    },
    {
      "cell_type": "code",
      "execution_count": null,
      "metadata": {
        "colab": {
          "background_save": true
        },
        "id": "DwIibYUjjqOO"
      },
      "outputs": [],
      "source": [
        "# Membuat dictionary untuk data 'id', 'blog_title', dan 'topic'\n",
        "blog_new = pd.DataFrame({\n",
        "    'id': id,\n",
        "    'title': blog_title,\n",
        "    'topic': topic\n",
        "})\n",
        "blog_new"
      ]
    },
    {
      "cell_type": "markdown",
      "metadata": {
        "id": "USFkO6IrkZ3Y"
      },
      "source": [
        "# Model Development dengan Content Based Filtering"
      ]
    },
    {
      "cell_type": "code",
      "execution_count": null,
      "metadata": {
        "colab": {
          "background_save": true
        },
        "id": "qeZdgn2BkbO1"
      },
      "outputs": [],
      "source": [
        "data = blog_new\n",
        "data.sample(5)"
      ]
    },
    {
      "cell_type": "markdown",
      "metadata": {
        "id": "rZ7c9vIXku2t"
      },
      "source": [
        "## TF-IDF Vectorizer"
      ]
    },
    {
      "cell_type": "code",
      "execution_count": null,
      "metadata": {
        "colab": {
          "background_save": true
        },
        "id": "7mE9vrcukqt8"
      },
      "outputs": [],
      "source": [
        "from sklearn.feature_extraction.text import TfidfVectorizer\n",
        "\n",
        "# Inisialisasi TfidfVectorizer\n",
        "tf = TfidfVectorizer()\n",
        "\n",
        "# Melakukan perhitungan idf pada data topic\n",
        "tf.fit(data['topic'])\n",
        "\n",
        "# Mapping array dari fitur index integer ke fitur nama\n",
        "tf.get_feature_names_out()"
      ]
    },
    {
      "cell_type": "markdown",
      "metadata": {
        "id": "u-oQzlVWlKRT"
      },
      "source": [
        "## Melakukan fit lalu ditransformasika"
      ]
    },
    {
      "cell_type": "code",
      "execution_count": null,
      "metadata": {
        "colab": {
          "background_save": true
        },
        "id": "A_CRM2wAlC_m"
      },
      "outputs": [],
      "source": [
        "# Melakukan fit lalu ditransformasikan ke bentuk matrix\n",
        "tfidf_matrix = tf.fit_transform(data['topic'])\n",
        "\n",
        "# Melihat ukuran matrix tfidf\n",
        "tfidf_matrix.shape"
      ]
    },
    {
      "cell_type": "markdown",
      "metadata": {
        "id": "TyXFNb5AlTlM"
      },
      "source": [
        "## Mengubah vektor tf-idf"
      ]
    },
    {
      "cell_type": "code",
      "execution_count": null,
      "metadata": {
        "colab": {
          "background_save": true
        },
        "id": "USoMXwAYlLLH"
      },
      "outputs": [],
      "source": [
        "# Mengubah vektor tf-idf dalam bentuk matriks dengan fungsi todense()\n",
        "tfidf_matrix.todense()"
      ]
    },
    {
      "cell_type": "code",
      "execution_count": null,
      "metadata": {
        "colab": {
          "background_save": true
        },
        "id": "o8nokhFslWvT"
      },
      "outputs": [],
      "source": [
        "# Membuat dataframe untuk melihat tf-idf matrix\n",
        "# Kolom diisi dengan topic\n",
        "# Baris diisi dengan title\n",
        "\n",
        "pd.DataFrame(\n",
        "    tfidf_matrix.todense(),\n",
        "    columns=tf.get_feature_names_out(),\n",
        "    index=data.title\n",
        ").sample(22, axis=1).sample(10, axis=0)"
      ]
    },
    {
      "cell_type": "markdown",
      "metadata": {
        "id": "7DvGB_5TlZn0"
      },
      "source": [
        "## Cosine Similarity"
      ]
    },
    {
      "cell_type": "code",
      "execution_count": null,
      "metadata": {
        "colab": {
          "background_save": true
        },
        "id": "MzvozRaoAG1D"
      },
      "outputs": [],
      "source": [
        "from sklearn.metrics.pairwise import cosine_similarity\n",
        "\n",
        "# Menghitung cosine similarity pada matrix tf-idf\n",
        "cosine_sim = cosine_similarity(tfidf_matrix)\n",
        "cosine_sim"
      ]
    },
    {
      "cell_type": "code",
      "execution_count": null,
      "metadata": {
        "colab": {
          "background_save": true
        },
        "id": "OxN6JJzgAMwT"
      },
      "outputs": [],
      "source": [
        "# Membuat dataframe dari variabel cosine_sim dengan baris dan kolom berupa judul blog\n",
        "cosine_sim_df = pd.DataFrame(cosine_sim, index=data['title'], columns=data['title'])\n",
        "print('Shape:', cosine_sim_df.shape)\n",
        "\n",
        "# Melihat similarity matrix pada setiap blog\n",
        "cosine_sim_df.sample(5, axis=1).sample(10, axis=0)"
      ]
    },
    {
      "cell_type": "markdown",
      "metadata": {
        "id": "qe8aO6tPl6de"
      },
      "source": [
        "## Create Prediction Function"
      ]
    },
    {
      "cell_type": "code",
      "execution_count": null,
      "metadata": {
        "colab": {
          "background_save": true
        },
        "id": "M-win2E6Bnda"
      },
      "outputs": [],
      "source": [
        "def blog_recommendations(title, similarity_data=cosine_sim_df, items=data[['title', 'topic']], k=5):\n",
        "    \"\"\"\n",
        "    Rekomendasi blog berdasarkan kemiripan dataframe\n",
        "\n",
        "    Parameter:\n",
        "    ---\n",
        "    title : tipe data string (str)\n",
        "                Judul Blog (index kemiripan dataframe)\n",
        "    similarity_data : tipe data pd.DataFrame (object)\n",
        "                      Kesamaan dataframe, simetrik, dengan blog sebagai\n",
        "                      indeks dan kolom\n",
        "    items : tipe data pd.DataFrame (object)\n",
        "            Mengandung kedua nama dan fitur lainnya yang digunakan untuk mendefinisikan kemiripan\n",
        "    k : tipe data integer (int)\n",
        "        Banyaknya jumlah rekomendasi yang diberikan\n",
        "    ---\n",
        "\n",
        "\n",
        "    Pada index ini, kita mengambil k dengan nilai similarity terbesar\n",
        "    pada index matrix yang diberikan (i).\n",
        "    \"\"\"\n",
        "\n",
        "\n",
        "    # Mengambil data dengan menggunakan argpartition untuk melakukan partisi secara tidak langsung sepanjang sumbu yang diberikan\n",
        "    # Dataframe diubah menjadi numpy\n",
        "    # Range(start, stop, step)\n",
        "    index = similarity_data.loc[:,title].to_numpy().argpartition(\n",
        "        range(-1, -k, -1))\n",
        "\n",
        "    # Mengambil data dengan similarity terbesar dari index yang ada\n",
        "    closest = similarity_data.columns[index[-1:-(k+2):-1]]\n",
        "\n",
        "    # Drop title agar judul blog yang dicari tidak muncul dalam daftar rekomendasi\n",
        "    closest = closest.drop(title, errors='ignore')\n",
        "\n",
        "    return pd.DataFrame(closest).merge(items).head(k)"
      ]
    },
    {
      "cell_type": "markdown",
      "metadata": {
        "id": "XZcQvxxnmBEV"
      },
      "source": [
        "## Example Title 1"
      ]
    },
    {
      "cell_type": "code",
      "execution_count": null,
      "metadata": {
        "colab": {
          "background_save": true
        },
        "id": "lykmBmPwDezq"
      },
      "outputs": [],
      "source": [
        "data[data.title.eq('Tasha’s Trinkets')]"
      ]
    },
    {
      "cell_type": "code",
      "execution_count": null,
      "metadata": {
        "colab": {
          "background_save": true
        },
        "id": "LKMcK86MDyjK"
      },
      "outputs": [],
      "source": [
        "# Mendapatkan rekomendasi blog yang mirip dengan Coming soon: Tasha’s Trinkets\n",
        "blog_recommendations('Tasha’s Trinkets')"
      ]
    },
    {
      "cell_type": "markdown",
      "metadata": {
        "id": "az8zah3rmGGV"
      },
      "source": [
        "## Example Title 2"
      ]
    },
    {
      "cell_type": "code",
      "execution_count": null,
      "metadata": {
        "colab": {
          "background_save": true
        },
        "id": "GUgN7FZJKzLJ"
      },
      "outputs": [],
      "source": [
        "data[data.title.eq('EVE Ignites NFT Hope')]"
      ]
    },
    {
      "cell_type": "code",
      "execution_count": null,
      "metadata": {
        "colab": {
          "background_save": true
        },
        "id": "u1F3-mxTLEdm"
      },
      "outputs": [],
      "source": [
        "# Mendapatkan rekomendasi blog yang mirip dengan Coming soon: How to Emboss Images using Python'\n",
        "blog_recommendations('How to Emboss Images using Python')"
      ]
    },
    {
      "cell_type": "markdown",
      "metadata": {
        "id": "hLlqvygWmJsL"
      },
      "source": [
        "## Example Title 3"
      ]
    },
    {
      "cell_type": "code",
      "execution_count": null,
      "metadata": {
        "colab": {
          "background_save": true
        },
        "id": "HI5CA5j_qSby"
      },
      "outputs": [],
      "source": [
        "data[data.title.eq('EVE Ignites NFT Hope')]"
      ]
    },
    {
      "cell_type": "code",
      "execution_count": null,
      "metadata": {
        "colab": {
          "background_save": true
        },
        "id": "dh7r6wPYqYR_"
      },
      "outputs": [],
      "source": [
        "# Mendapatkan rekomendasi blog yang mirip dengan EVE Ignites NFT Hope\n",
        "blog_recommendations('EVE Ignites NFT Hope')"
      ]
    }
  ],
  "metadata": {
    "accelerator": "GPU",
    "colab": {
      "provenance": []
    },
    "kernelspec": {
      "display_name": "Python 3",
      "name": "python3"
    },
    "language_info": {
      "name": "python"
    }
  },
  "nbformat": 4,
  "nbformat_minor": 0
}